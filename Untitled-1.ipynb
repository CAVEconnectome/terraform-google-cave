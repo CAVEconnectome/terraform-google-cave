{
 "cells": [
  {
   "cell_type": "code",
   "execution_count": 1,
   "id": "a356ca04",
   "metadata": {},
   "outputs": [],
   "source": [
    "import pandas as pd"
   ]
  },
  {
   "cell_type": "code",
   "execution_count": 2,
   "id": "155a3f47",
   "metadata": {},
   "outputs": [
    {
     "name": "stderr",
     "output_type": "stream",
     "text": [
      "/var/folders/jx/mqyp5kb1633015r91rx7fhym0000gp/T/ipykernel_86146/2441256033.py:1: DtypeWarning: Columns (3) have mixed types. Specify dtype option on import or set low_memory=False.\n",
      "  df = pd.read_csv('/Users/forrestc/Downloads/drifting_gratings_windowed_M409828.csv')\n"
     ]
    }
   ],
   "source": [
    "df = pd.read_csv('/Users/forrestc/Downloads/drifting_gratings_windowed_M409828.csv')"
   ]
  },
  {
   "cell_type": "code",
   "execution_count": 12,
   "id": "fea8338c",
   "metadata": {},
   "outputs": [],
   "source": [
    "coreg_df = pd.read_feather('/Users/forrestc/Downloads/coregistration_1196.feather')"
   ]
  },
  {
   "cell_type": "code",
   "execution_count": 14,
   "id": "1e0c52bb",
   "metadata": {},
   "outputs": [
    {
     "data": {
      "text/html": [
       "<div>\n",
       "<style scoped>\n",
       "    .dataframe tbody tr th:only-of-type {\n",
       "        vertical-align: middle;\n",
       "    }\n",
       "\n",
       "    .dataframe tbody tr th {\n",
       "        vertical-align: top;\n",
       "    }\n",
       "\n",
       "    .dataframe thead th {\n",
       "        text-align: right;\n",
       "    }\n",
       "</style>\n",
       "<table border=\"1\" class=\"dataframe\">\n",
       "  <thead>\n",
       "    <tr style=\"text-align: right;\">\n",
       "      <th></th>\n",
       "      <th>roi_unique_id</th>\n",
       "      <th>mouse</th>\n",
       "      <th>column</th>\n",
       "      <th>volume</th>\n",
       "      <th>plane</th>\n",
       "      <th>roi</th>\n",
       "      <th>dsi</th>\n",
       "      <th>frac_responsive_trials</th>\n",
       "      <th>gosi</th>\n",
       "      <th>is_responsive</th>\n",
       "      <th>lifetime_sparseness</th>\n",
       "      <th>osi</th>\n",
       "      <th>preferred_dir</th>\n",
       "      <th>preferred_sf</th>\n",
       "      <th>pref_dir_mean</th>\n",
       "      <th>pt_root_id</th>\n",
       "    </tr>\n",
       "  </thead>\n",
       "  <tbody>\n",
       "    <tr>\n",
       "      <th>0</th>\n",
       "      <td>M409828_5_2_0</td>\n",
       "      <td>M409828</td>\n",
       "      <td>2</td>\n",
       "      <td>5</td>\n",
       "      <td>2</td>\n",
       "      <td>0</td>\n",
       "      <td>0.620626</td>\n",
       "      <td>0.125000</td>\n",
       "      <td>0.296542</td>\n",
       "      <td>0.0</td>\n",
       "      <td>0.893174</td>\n",
       "      <td>0.455019</td>\n",
       "      <td>240.0</td>\n",
       "      <td>0.08</td>\n",
       "      <td>169.357812</td>\n",
       "      <td>864691132691044586</td>\n",
       "    </tr>\n",
       "    <tr>\n",
       "      <th>1</th>\n",
       "      <td>M409828_5_2_4</td>\n",
       "      <td>M409828</td>\n",
       "      <td>2</td>\n",
       "      <td>5</td>\n",
       "      <td>2</td>\n",
       "      <td>4</td>\n",
       "      <td>0.963892</td>\n",
       "      <td>0.250000</td>\n",
       "      <td>0.517890</td>\n",
       "      <td>0.0</td>\n",
       "      <td>0.919274</td>\n",
       "      <td>0.951064</td>\n",
       "      <td>30.0</td>\n",
       "      <td>0.04</td>\n",
       "      <td>77.584693</td>\n",
       "      <td>864691132578859796</td>\n",
       "    </tr>\n",
       "    <tr>\n",
       "      <th>2</th>\n",
       "      <td>M409828_5_2_9</td>\n",
       "      <td>M409828</td>\n",
       "      <td>2</td>\n",
       "      <td>5</td>\n",
       "      <td>2</td>\n",
       "      <td>9</td>\n",
       "      <td>0.562551</td>\n",
       "      <td>1.000000</td>\n",
       "      <td>0.544426</td>\n",
       "      <td>1.0</td>\n",
       "      <td>0.807212</td>\n",
       "      <td>0.828375</td>\n",
       "      <td>0.0</td>\n",
       "      <td>0.08</td>\n",
       "      <td>17.059911</td>\n",
       "      <td>864691132784139762</td>\n",
       "    </tr>\n",
       "    <tr>\n",
       "      <th>3</th>\n",
       "      <td>M409828_5_2_13</td>\n",
       "      <td>M409828</td>\n",
       "      <td>2</td>\n",
       "      <td>5</td>\n",
       "      <td>2</td>\n",
       "      <td>13</td>\n",
       "      <td>0.583454</td>\n",
       "      <td>0.250000</td>\n",
       "      <td>0.543150</td>\n",
       "      <td>0.0</td>\n",
       "      <td>0.914780</td>\n",
       "      <td>0.890988</td>\n",
       "      <td>30.0</td>\n",
       "      <td>0.04</td>\n",
       "      <td>112.575268</td>\n",
       "      <td>864691132802605719</td>\n",
       "    </tr>\n",
       "    <tr>\n",
       "      <th>4</th>\n",
       "      <td>M409828_5_2_16</td>\n",
       "      <td>M409828</td>\n",
       "      <td>2</td>\n",
       "      <td>5</td>\n",
       "      <td>2</td>\n",
       "      <td>16</td>\n",
       "      <td>0.720044</td>\n",
       "      <td>0.000000</td>\n",
       "      <td>0.475664</td>\n",
       "      <td>0.0</td>\n",
       "      <td>0.894457</td>\n",
       "      <td>0.798062</td>\n",
       "      <td>120.0</td>\n",
       "      <td>0.04</td>\n",
       "      <td>123.191723</td>\n",
       "      <td>864691132761554538</td>\n",
       "    </tr>\n",
       "    <tr>\n",
       "      <th>...</th>\n",
       "      <td>...</td>\n",
       "      <td>...</td>\n",
       "      <td>...</td>\n",
       "      <td>...</td>\n",
       "      <td>...</td>\n",
       "      <td>...</td>\n",
       "      <td>...</td>\n",
       "      <td>...</td>\n",
       "      <td>...</td>\n",
       "      <td>...</td>\n",
       "      <td>...</td>\n",
       "      <td>...</td>\n",
       "      <td>...</td>\n",
       "      <td>...</td>\n",
       "      <td>...</td>\n",
       "      <td>...</td>\n",
       "    </tr>\n",
       "    <tr>\n",
       "      <th>79</th>\n",
       "      <td>M409828_5_3_141</td>\n",
       "      <td>M409828</td>\n",
       "      <td>2</td>\n",
       "      <td>5</td>\n",
       "      <td>3</td>\n",
       "      <td>141</td>\n",
       "      <td>0.479112</td>\n",
       "      <td>0.125000</td>\n",
       "      <td>0.161589</td>\n",
       "      <td>0.0</td>\n",
       "      <td>0.614026</td>\n",
       "      <td>0.409516</td>\n",
       "      <td>120.0</td>\n",
       "      <td>0.08</td>\n",
       "      <td>43.112576</td>\n",
       "      <td>864691132725498737</td>\n",
       "    </tr>\n",
       "    <tr>\n",
       "      <th>80</th>\n",
       "      <td>M409828_5_3_162</td>\n",
       "      <td>M409828</td>\n",
       "      <td>2</td>\n",
       "      <td>5</td>\n",
       "      <td>3</td>\n",
       "      <td>162</td>\n",
       "      <td>0.615864</td>\n",
       "      <td>0.285714</td>\n",
       "      <td>0.315069</td>\n",
       "      <td>0.0</td>\n",
       "      <td>0.642000</td>\n",
       "      <td>0.708735</td>\n",
       "      <td>60.0</td>\n",
       "      <td>0.08</td>\n",
       "      <td>75.873579</td>\n",
       "      <td>864691132629014588</td>\n",
       "    </tr>\n",
       "    <tr>\n",
       "      <th>81</th>\n",
       "      <td>M409828_5_3_201</td>\n",
       "      <td>M409828</td>\n",
       "      <td>2</td>\n",
       "      <td>5</td>\n",
       "      <td>3</td>\n",
       "      <td>201</td>\n",
       "      <td>0.605946</td>\n",
       "      <td>1.000000</td>\n",
       "      <td>0.372067</td>\n",
       "      <td>1.0</td>\n",
       "      <td>0.754551</td>\n",
       "      <td>0.721060</td>\n",
       "      <td>90.0</td>\n",
       "      <td>0.04</td>\n",
       "      <td>122.060516</td>\n",
       "      <td>864691132755147518</td>\n",
       "    </tr>\n",
       "    <tr>\n",
       "      <th>82</th>\n",
       "      <td>M409828_5_3_204</td>\n",
       "      <td>M409828</td>\n",
       "      <td>2</td>\n",
       "      <td>5</td>\n",
       "      <td>3</td>\n",
       "      <td>204</td>\n",
       "      <td>0.227505</td>\n",
       "      <td>0.375000</td>\n",
       "      <td>0.252124</td>\n",
       "      <td>0.0</td>\n",
       "      <td>0.654880</td>\n",
       "      <td>0.555646</td>\n",
       "      <td>0.0</td>\n",
       "      <td>0.08</td>\n",
       "      <td>26.842499</td>\n",
       "      <td>864691133071474377</td>\n",
       "    </tr>\n",
       "    <tr>\n",
       "      <th>83</th>\n",
       "      <td>M409828_5_3_226</td>\n",
       "      <td>M409828</td>\n",
       "      <td>2</td>\n",
       "      <td>5</td>\n",
       "      <td>3</td>\n",
       "      <td>226</td>\n",
       "      <td>0.490590</td>\n",
       "      <td>0.375000</td>\n",
       "      <td>0.457188</td>\n",
       "      <td>0.0</td>\n",
       "      <td>0.749569</td>\n",
       "      <td>0.864600</td>\n",
       "      <td>90.0</td>\n",
       "      <td>0.08</td>\n",
       "      <td>86.436080</td>\n",
       "      <td>864691132666328483</td>\n",
       "    </tr>\n",
       "  </tbody>\n",
       "</table>\n",
       "<p>84 rows × 16 columns</p>\n",
       "</div>"
      ],
      "text/plain": [
       "      roi_unique_id    mouse  column volume  plane  roi       dsi  \\\n",
       "0     M409828_5_2_0  M409828       2      5      2    0  0.620626   \n",
       "1     M409828_5_2_4  M409828       2      5      2    4  0.963892   \n",
       "2     M409828_5_2_9  M409828       2      5      2    9  0.562551   \n",
       "3    M409828_5_2_13  M409828       2      5      2   13  0.583454   \n",
       "4    M409828_5_2_16  M409828       2      5      2   16  0.720044   \n",
       "..              ...      ...     ...    ...    ...  ...       ...   \n",
       "79  M409828_5_3_141  M409828       2      5      3  141  0.479112   \n",
       "80  M409828_5_3_162  M409828       2      5      3  162  0.615864   \n",
       "81  M409828_5_3_201  M409828       2      5      3  201  0.605946   \n",
       "82  M409828_5_3_204  M409828       2      5      3  204  0.227505   \n",
       "83  M409828_5_3_226  M409828       2      5      3  226  0.490590   \n",
       "\n",
       "    frac_responsive_trials      gosi  is_responsive  lifetime_sparseness  \\\n",
       "0                 0.125000  0.296542            0.0             0.893174   \n",
       "1                 0.250000  0.517890            0.0             0.919274   \n",
       "2                 1.000000  0.544426            1.0             0.807212   \n",
       "3                 0.250000  0.543150            0.0             0.914780   \n",
       "4                 0.000000  0.475664            0.0             0.894457   \n",
       "..                     ...       ...            ...                  ...   \n",
       "79                0.125000  0.161589            0.0             0.614026   \n",
       "80                0.285714  0.315069            0.0             0.642000   \n",
       "81                1.000000  0.372067            1.0             0.754551   \n",
       "82                0.375000  0.252124            0.0             0.654880   \n",
       "83                0.375000  0.457188            0.0             0.749569   \n",
       "\n",
       "         osi  preferred_dir  preferred_sf  pref_dir_mean          pt_root_id  \n",
       "0   0.455019          240.0          0.08     169.357812  864691132691044586  \n",
       "1   0.951064           30.0          0.04      77.584693  864691132578859796  \n",
       "2   0.828375            0.0          0.08      17.059911  864691132784139762  \n",
       "3   0.890988           30.0          0.04     112.575268  864691132802605719  \n",
       "4   0.798062          120.0          0.04     123.191723  864691132761554538  \n",
       "..       ...            ...           ...            ...                 ...  \n",
       "79  0.409516          120.0          0.08      43.112576  864691132725498737  \n",
       "80  0.708735           60.0          0.08      75.873579  864691132629014588  \n",
       "81  0.721060           90.0          0.04     122.060516  864691132755147518  \n",
       "82  0.555646            0.0          0.08      26.842499  864691133071474377  \n",
       "83  0.864600           90.0          0.08      86.436080  864691132666328483  \n",
       "\n",
       "[84 rows x 16 columns]"
      ]
     },
     "execution_count": 14,
     "metadata": {},
     "output_type": "execute_result"
    }
   ],
   "source": [
    "df.merge(coreg_df, on=['column', 'volume', 'plane', 'roi'])"
   ]
  },
  {
   "cell_type": "code",
   "execution_count": null,
   "id": "eee1e6f5",
   "metadata": {},
   "outputs": [
    {
     "data": {
      "text/plain": [
       "dtype('O')"
      ]
     },
     "execution_count": 18,
     "metadata": {},
     "output_type": "execute_result"
    }
   ],
   "source": []
  },
  {
   "cell_type": "code",
   "execution_count": 36,
   "id": "e5620f23",
   "metadata": {},
   "outputs": [],
   "source": [
    "df[\"volume\"]=pd.to_numeric( df[\"volume\"], errors=\"coerce\").astype(\"Int64\")"
   ]
  },
  {
   "cell_type": "code",
   "execution_count": 38,
   "id": "4bd24ea1",
   "metadata": {},
   "outputs": [
    {
     "data": {
      "text/plain": [
       "preferred_dir\n",
       "False    564\n",
       "True       7\n",
       "Name: count, dtype: int64"
      ]
     },
     "execution_count": 38,
     "metadata": {},
     "output_type": "execute_result"
    }
   ],
   "source": [
    "df.merge(coreg_df, on=['column', 'volume', 'plane', 'roi']).preferred_dir.isna().value_counts()"
   ]
  },
  {
   "cell_type": "code",
   "execution_count": 29,
   "id": "5f761919",
   "metadata": {},
   "outputs": [
    {
     "data": {
      "text/plain": [
       "dtype('int64')"
      ]
     },
     "execution_count": 29,
     "metadata": {},
     "output_type": "execute_result"
    }
   ],
   "source": [
    "coreg_df.volume.dtype"
   ]
  },
  {
   "cell_type": "code",
   "execution_count": 35,
   "id": "c3174fc2",
   "metadata": {},
   "outputs": [
    {
     "data": {
      "text/plain": [
       "dtype('O')"
      ]
     },
     "execution_count": 35,
     "metadata": {},
     "output_type": "execute_result"
    }
   ],
   "source": [
    "df.volume.dtype"
   ]
  },
  {
   "cell_type": "code",
   "execution_count": 32,
   "id": "ff3d1cdd",
   "metadata": {},
   "outputs": [
    {
     "data": {
      "text/plain": [
       "0         1\n",
       "1         1\n",
       "2         1\n",
       "3         1\n",
       "4         1\n",
       "         ..\n",
       "164339    5\n",
       "164340    5\n",
       "164341    5\n",
       "164342    5\n",
       "164343    5\n",
       "Name: volume, Length: 164344, dtype: object"
      ]
     },
     "execution_count": 32,
     "metadata": {},
     "output_type": "execute_result"
    }
   ],
   "source": [
    "df.volume"
   ]
  },
  {
   "cell_type": "code",
   "execution_count": null,
   "id": "2ddf8b4b",
   "metadata": {},
   "outputs": [],
   "source": []
  }
 ],
 "metadata": {
  "kernelspec": {
   "display_name": "cavenotebooks",
   "language": "python",
   "name": "python3"
  },
  "language_info": {
   "codemirror_mode": {
    "name": "ipython",
    "version": 3
   },
   "file_extension": ".py",
   "mimetype": "text/x-python",
   "name": "python",
   "nbconvert_exporter": "python",
   "pygments_lexer": "ipython3",
   "version": "3.12.0"
  }
 },
 "nbformat": 4,
 "nbformat_minor": 5
}
